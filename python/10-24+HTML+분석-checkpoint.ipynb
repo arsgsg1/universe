{
 "cells": [
  {
   "cell_type": "code",
   "execution_count": 1,
   "metadata": {
    "collapsed": true
   },
   "outputs": [],
   "source": [
    "import requests"
   ]
  },
  {
   "cell_type": "code",
   "execution_count": 2,
   "metadata": {
    "collapsed": true
   },
   "outputs": [],
   "source": [
    "url = 'http://land.naver.com/article/articleDetailInfo.nhn?atclNo=1610516501&atclRletTypeCd=A01&rletTypeCd=A01&tradeTypeCd=B1'"
   ]
  },
  {
   "cell_type": "code",
   "execution_count": 3,
   "metadata": {
    "collapsed": true
   },
   "outputs": [],
   "source": [
    "r = requests.get(url)"
   ]
  },
  {
   "cell_type": "code",
   "execution_count": 5,
   "metadata": {
    "collapsed": false
   },
   "outputs": [],
   "source": [
    "html = r.text"
   ]
  },
  {
   "cell_type": "code",
   "execution_count": 7,
   "metadata": {
    "collapsed": false
   },
   "outputs": [
    {
     "data": {
      "text/plain": [
       "str"
      ]
     },
     "execution_count": 7,
     "metadata": {},
     "output_type": "execute_result"
    }
   ],
   "source": [
    "type(html)"
   ]
  },
  {
   "cell_type": "code",
   "execution_count": 8,
   "metadata": {
    "collapsed": true
   },
   "outputs": [],
   "source": [
    "from bs4 import BeautifulSoup"
   ]
  },
  {
   "cell_type": "code",
   "execution_count": 10,
   "metadata": {
    "collapsed": false
   },
   "outputs": [],
   "source": [
    "soup = BeautifulSoup(html, \"lxml\")"
   ]
  },
  {
   "cell_type": "code",
   "execution_count": 11,
   "metadata": {
    "collapsed": false
   },
   "outputs": [
    {
     "data": {
      "text/plain": [
       "bs4.BeautifulSoup"
      ]
     },
     "execution_count": 11,
     "metadata": {},
     "output_type": "execute_result"
    }
   ],
   "source": [
    "type(soup)"
   ]
  },
  {
   "cell_type": "code",
   "execution_count": 12,
   "metadata": {
    "collapsed": false
   },
   "outputs": [
    {
     "data": {
      "text/plain": [
       "<title>중계무지개, 중계동, 노원구, 서울시, 매물 : 네이버 부동산</title>"
      ]
     },
     "execution_count": 12,
     "metadata": {},
     "output_type": "execute_result"
    }
   ],
   "source": [
    "soup.title"
   ]
  },
  {
   "cell_type": "code",
   "execution_count": 14,
   "metadata": {
    "collapsed": false
   },
   "outputs": [
    {
     "data": {
      "text/plain": [
       "bs4.element.Tag"
      ]
     },
     "execution_count": 14,
     "metadata": {},
     "output_type": "execute_result"
    }
   ],
   "source": [
    "type(soup.title)"
   ]
  },
  {
   "cell_type": "code",
   "execution_count": 15,
   "metadata": {
    "collapsed": false
   },
   "outputs": [
    {
     "data": {
      "text/plain": [
       "'<title>중계무지개, 중계동, 노원구, 서울시, 매물 : 네이버 부동산</title>'"
      ]
     },
     "execution_count": 15,
     "metadata": {},
     "output_type": "execute_result"
    }
   ],
   "source": [
    "str(soup.title)"
   ]
  },
  {
   "cell_type": "code",
   "execution_count": 13,
   "metadata": {
    "collapsed": false
   },
   "outputs": [
    {
     "data": {
      "text/plain": [
       "'중계무지개, 중계동, 노원구, 서울시, 매물 : 네이버 부동산'"
      ]
     },
     "execution_count": 13,
     "metadata": {},
     "output_type": "execute_result"
    }
   ],
   "source": [
    "soup.title.text"
   ]
  },
  {
   "cell_type": "code",
   "execution_count": 16,
   "metadata": {
    "collapsed": false
   },
   "outputs": [
    {
     "data": {
      "text/plain": [
       "<head>\n",
       "<meta content=\"IE=Edge\" http-equiv=\"X-UA-Compatible\"/>\n",
       "<meta content=\"text/html; charset=utf-8\" http-equiv=\"Content-Type\"/>\n",
       "<meta content=\"네이버부동산 매물\" property=\"me2:post_tag\"/>\n",
       "<meta content=\"네이버부동산\" property=\"me2:category1\"/>\n",
       "<meta content=\"중계무지개\" property=\"me2:category2\"/>\n",
       "<!DOCTYPE HTML PUBLIC \"-//W3C//DTD HTML 4.01 Transitional//EN\" \"http://www.w3.org/TR/html4/loose.dtd\">\n",
       "\n",
       "<!-- og:tag -->\n",
       "<link href=\"http://land.naver.com\" rel=\"canonical\"/>\n",
       "<meta content=\"land\" property=\"og:site_name\"/>\n",
       "<meta content=\"중계무지개 209동 57.07㎡ 전세 : 네이버 부동산\" property=\"og:title\"/>\n",
       "<meta content=\"article\" property=\"og:type\"/>\n",
       "<meta content=\"[서울시 노원구 중계동]\" property=\"og:description\"/>\n",
       "<meta content=\"[서울시 노원구 중계동]\" name=\"description\"/>\n",
       "<meta content=\"http://landthumb.phinf.naver.net/20110422_168/land_system_1303439163911DHM2W_JPEG/1121961495925_4.jpg\" property=\"og:image\"/>\n",
       "<meta content=\"네이버 부동산\" property=\"og:article:author\"/>\n",
       "<meta content=\"http://land.naver.com/article/articleDetailInfo.nhn?atclNo=1610516501&amp;atclRletTypeCd=A01&amp;rletTypeCd=A01&amp;tradeTypeCd=B1\" property=\"og:url\"/>\n",
       "<meta content=\"http://land.naver.com/\" property=\"og:article:author:url\"/>\n",
       "<!-- //og:tag -->\n",
       "<title>중계무지개, 중계동, 노원구, 서울시, 매물 : 네이버 부동산</title>\n",
       "<script type=\"text/javascript\">\n",
       "\tdocument.domain = 'naver.com';\n",
       "</script>\n",
       "<link href=\"http://static.land.naver.net/static/service/css/201610191845/min/article/land_article.legacy.css\" rel=\"stylesheet\" type=\"text/css\"/>\n",
       "<link href=\"http://static.land.naver.net/static/service/css/201610191845/min/article/land_article.detail.css\" rel=\"stylesheet\" type=\"text/css\"/>\n",
       "</head>"
      ]
     },
     "execution_count": 16,
     "metadata": {},
     "output_type": "execute_result"
    }
   ],
   "source": [
    "soup.title.parent"
   ]
  },
  {
   "cell_type": "code",
   "execution_count": 18,
   "metadata": {
    "collapsed": false
   },
   "outputs": [
    {
     "data": {
      "text/plain": [
       "<a href=\"#lnb\"><span>메인 메뉴로 바로가기</span></a>"
      ]
     },
     "execution_count": 18,
     "metadata": {},
     "output_type": "execute_result"
    }
   ],
   "source": [
    "soup.a"
   ]
  },
  {
   "cell_type": "markdown",
   "metadata": {},
   "source": [
    "### select()"
   ]
  },
  {
   "cell_type": "code",
   "execution_count": 20,
   "metadata": {
    "collapsed": false
   },
   "outputs": [
    {
     "data": {
      "text/plain": [
       "[<p>최근 검색한 지역과 단지 <a href=\"javascript:void(0)\" title=\"최근 검색한 지역과 단지\">펼치기</a></p>,\n",
       " <p class=\"tx_date v2\">부동산써브 제공</p>,\n",
       " <p class=\"tx_date\">최초게재일 2016.10.15</p>,\n",
       " <p class=\"blind\">확인매물</p>,\n",
       " <p class=\"tx_adr\"><em class=\"ic\"><span class=\"blind\">현장확인</span></em> 부동산매물검증센터에서 2016년 10월 14일 직접 현장확인한 매물입니다.</p>,\n",
       " <p class=\"rate_info\"><span class=\"sp_n num5\">5</span><span class=\"sp_n num7\">7</span><span class=\"sp_n dot\">.</span><span class=\"sp_n num0\">0</span><span class=\"sp_n num7\">7</span><span class=\"sp_n slash\">/</span><span class=\"sp_n num3\">3</span><span class=\"sp_n num9\">9</span><span class=\"sp_n dot\">.</span><span class=\"sp_n num9\">9</span><span class=\"sp_n num6\">6</span><span class=\"sp_n tx_m\">㎡</span></p>,\n",
       " <p class=\"mltm_area\"><a class=\"btn NPI=a:rprc\" href=\"HTTP://rt.molit.go.kr/srh/srh.do?cmd=rtSearch&amp;menuGubun=A&amp;srhType=LOC#2574,11,11350,1135010600,,,2574,2016,3,2\" target=\"_blank\"><span class=\"blind\">국토해양부 실거래가</span></a></p>,\n",
       " <p class=\"rate_info\">\n",
       " <span class=\"sp_n num1\">1</span><span class=\"sp_n num4\">4</span><span class=\"sp_n com\">,</span><span class=\"sp_n num5\">5</span><span class=\"sp_n num0\">0</span><span class=\"sp_n num0\">0</span><span class=\"sp_n tx_m\">만원</span>\n",
       " </p>,\n",
       " <p class=\"ly_tx ly_tx_v2\">서울특별시 노원구 중계동 512 무지개아파트상가 108호</p>,\n",
       " <p class=\"ly_tx\">매매가 대비 전세가</p>,\n",
       " <p class=\"tx_spon\">한국감정원</p>,\n",
       " <p class=\"dsc\">(입주일로부터 최장 7 년시세)</p>,\n",
       " <p class=\"tx_dsc\">하절기 6~8月 / 동절기 12~2月 </p>,\n",
       " <p class=\"tx_spon\">아파트아이 제공</p>,\n",
       " <p class=\"tx_sale_info\"></p>,\n",
       " <p class=\"tx_noti\">네이버부동산은 본 매물정보의 정확성에 대해 보증하지 아니하며, 게시되는 매물정보는<br/>실제 현장 매물 또는 건축물대장 등의 정보와 다를 수 있으므로 주의를 부탁 드립니다.</p>,\n",
       " <p class=\"self_register\"><a href=\"http://www.kjaa.or.kr/home/sub.asp?m_id=2&amp;s_id=2\" target=\"_blank\">법무사 등기보수</a><span class=\"bar\"></span><a href=\"http://land.naver.com/news/magazineView.nhn?arti_seq=5166573\" target=\"_blank\">Self 등기하는 방법</a></p>,\n",
       " <p class=\"tx\"><span class=\"ico\"></span>세금 &amp; 수수료 정보는 실제 거래 시 적용되는 금액과 다를 수 있습니다.</p>,\n",
       " <p class=\"tx_spon\">(주) 와우크레딧 제공</p>,\n",
       " <p class=\"input\">\n",
       " <input class=\"_inputArea\" id=\"path_input\" title=\"출발지 입력\" type=\"text\" value=\"출발지\"/>\n",
       " <span>→</span>\n",
       " <strong title=\"중계무지개\">중계무지개</strong>\n",
       " <a class=\"srch _pathSearch NPI=a:shortcut\" href=\"#\">찾기</a>\n",
       " </p>,\n",
       " <p class=\"subway\"><span class=\"s7\"></span>\n",
       " <a class=\"_subway NPI=a:public\" href=\"#\" id=\"714\" lat=\"37.6455003\" lng=\"127.0639223\" title=\"수도권7호선\">7호선(\n",
       " \t\t\t\t\t\n",
       " \t\t\t\t\t\t중계\n",
       " \t\t\t\t\t\n",
       " \t\t\t\t)</a></p>,\n",
       " <p class=\"login\">로그인을 해주세요</p>,\n",
       " <p class=\"result_none\" style=\"display: black;\">최근본 매물이 없습니다</p>,\n",
       " <p class=\"info\" tabindex=\"0\">네이버부동산은 제휴 부동산 정보업체가 전송한 매물 정보가 노출될 수 있도록 광고 플랫폼 및 부동산 관련 정보를 제공하며,<br/>제휴 부동산 정보업체가 네이버 부동산으로 전송한 매물 정보 및 이와 관련한 실제 거래에 대하여 어떠한 책임도 부담하지 않습니다.</p>]"
      ]
     },
     "execution_count": 20,
     "metadata": {},
     "output_type": "execute_result"
    }
   ],
   "source": [
    "soup.select('p')"
   ]
  },
  {
   "cell_type": "code",
   "execution_count": 22,
   "metadata": {
    "collapsed": false
   },
   "outputs": [
    {
     "data": {
      "text/plain": [
       "[<p class=\"tx_date v2\">부동산써브 제공</p>, <p class=\"tx_date\">최초게재일 2016.10.15</p>]"
      ]
     },
     "execution_count": 22,
     "metadata": {},
     "output_type": "execute_result"
    }
   ],
   "source": [
    "soup.select('.tx_date')"
   ]
  },
  {
   "cell_type": "code",
   "execution_count": 28,
   "metadata": {
    "collapsed": false
   },
   "outputs": [
    {
     "data": {
      "text/plain": [
       "[<p class=\"tx_date\">최초게재일 2016.10.15</p>]"
      ]
     },
     "execution_count": 28,
     "metadata": {},
     "output_type": "execute_result"
    }
   ],
   "source": [
    "soup.select('p[class=tx_date]')"
   ]
  },
  {
   "cell_type": "code",
   "execution_count": 34,
   "metadata": {
    "collapsed": false
   },
   "outputs": [
    {
     "data": {
      "text/plain": [
       "[<input id=\"cortarNo\" name=\"cortarNo\" type=\"hidden\" value=\"1135010600\"/>]"
      ]
     },
     "execution_count": 34,
     "metadata": {},
     "output_type": "execute_result"
    }
   ],
   "source": [
    "soup.select('#cortarNo')"
   ]
  },
  {
   "cell_type": "code",
   "execution_count": 36,
   "metadata": {
    "collapsed": false
   },
   "outputs": [],
   "source": [
    "tag = soup.select('#cortarNo')[0]"
   ]
  },
  {
   "cell_type": "code",
   "execution_count": 37,
   "metadata": {
    "collapsed": false
   },
   "outputs": [
    {
     "data": {
      "text/plain": [
       "''"
      ]
     },
     "execution_count": 37,
     "metadata": {},
     "output_type": "execute_result"
    }
   ],
   "source": [
    "tag.text"
   ]
  },
  {
   "cell_type": "code",
   "execution_count": 38,
   "metadata": {
    "collapsed": false
   },
   "outputs": [
    {
     "data": {
      "text/plain": [
       "'input'"
      ]
     },
     "execution_count": 38,
     "metadata": {},
     "output_type": "execute_result"
    }
   ],
   "source": [
    "tag.name"
   ]
  },
  {
   "cell_type": "code",
   "execution_count": 39,
   "metadata": {
    "collapsed": false
   },
   "outputs": [
    {
     "data": {
      "text/plain": [
       "'cortarNo'"
      ]
     },
     "execution_count": 39,
     "metadata": {},
     "output_type": "execute_result"
    }
   ],
   "source": [
    "tag.get('name')"
   ]
  },
  {
   "cell_type": "code",
   "execution_count": null,
   "metadata": {
    "collapsed": true
   },
   "outputs": [],
   "source": []
  },
  {
   "cell_type": "code",
   "execution_count": 40,
   "metadata": {
    "collapsed": false
   },
   "outputs": [
    {
     "data": {
      "text/plain": [
       "[<h2 class=\"t_adr\" title=\"\">중계무지개 209동</h2>]"
      ]
     },
     "execution_count": 40,
     "metadata": {},
     "output_type": "execute_result"
    }
   ],
   "source": [
    "soup.select('.t_adr')"
   ]
  },
  {
   "cell_type": "code",
   "execution_count": 42,
   "metadata": {
    "collapsed": false
   },
   "outputs": [
    {
     "data": {
      "text/plain": [
       "'중계무지개 209동'"
      ]
     },
     "execution_count": 42,
     "metadata": {},
     "output_type": "execute_result"
    }
   ],
   "source": [
    "soup.select('.t_adr')[0].text"
   ]
  },
  {
   "cell_type": "code",
   "execution_count": 43,
   "metadata": {
    "collapsed": false
   },
   "outputs": [
    {
     "data": {
      "text/plain": [
       "[<span class=\"sp_n num5\">5</span>,\n",
       " <span class=\"sp_n num7\">7</span>,\n",
       " <span class=\"sp_n dot\">.</span>,\n",
       " <span class=\"sp_n num0\">0</span>,\n",
       " <span class=\"sp_n num7\">7</span>,\n",
       " <span class=\"sp_n slash\">/</span>,\n",
       " <span class=\"sp_n num3\">3</span>,\n",
       " <span class=\"sp_n num9\">9</span>,\n",
       " <span class=\"sp_n dot\">.</span>,\n",
       " <span class=\"sp_n num9\">9</span>,\n",
       " <span class=\"sp_n num6\">6</span>,\n",
       " <span class=\"sp_n tx_m\">㎡</span>,\n",
       " <span class=\"sp_n num1\">1</span>,\n",
       " <span class=\"sp_n num4\">4</span>,\n",
       " <span class=\"sp_n com\">,</span>,\n",
       " <span class=\"sp_n num5\">5</span>,\n",
       " <span class=\"sp_n num0\">0</span>,\n",
       " <span class=\"sp_n num0\">0</span>,\n",
       " <span class=\"sp_n tx_m\">만원</span>]"
      ]
     },
     "execution_count": 43,
     "metadata": {},
     "output_type": "execute_result"
    }
   ],
   "source": [
    "soup.select('.sp_n')"
   ]
  },
  {
   "cell_type": "code",
   "execution_count": 44,
   "metadata": {
    "collapsed": false
   },
   "outputs": [
    {
     "data": {
      "text/plain": [
       "[<p class=\"rate_info\"><span class=\"sp_n num5\">5</span><span class=\"sp_n num7\">7</span><span class=\"sp_n dot\">.</span><span class=\"sp_n num0\">0</span><span class=\"sp_n num7\">7</span><span class=\"sp_n slash\">/</span><span class=\"sp_n num3\">3</span><span class=\"sp_n num9\">9</span><span class=\"sp_n dot\">.</span><span class=\"sp_n num9\">9</span><span class=\"sp_n num6\">6</span><span class=\"sp_n tx_m\">㎡</span></p>,\n",
       " <p class=\"rate_info\">\n",
       " <span class=\"sp_n num1\">1</span><span class=\"sp_n num4\">4</span><span class=\"sp_n com\">,</span><span class=\"sp_n num5\">5</span><span class=\"sp_n num0\">0</span><span class=\"sp_n num0\">0</span><span class=\"sp_n tx_m\">만원</span>\n",
       " </p>]"
      ]
     },
     "execution_count": 44,
     "metadata": {},
     "output_type": "execute_result"
    }
   ],
   "source": [
    "soup.select('.rate_info')"
   ]
  },
  {
   "cell_type": "code",
   "execution_count": 46,
   "metadata": {
    "collapsed": false
   },
   "outputs": [
    {
     "data": {
      "text/plain": [
       "[<p class=\"rate_info\">\n",
       " <span class=\"sp_n num1\">1</span><span class=\"sp_n num4\">4</span><span class=\"sp_n com\">,</span><span class=\"sp_n num5\">5</span><span class=\"sp_n num0\">0</span><span class=\"sp_n num0\">0</span><span class=\"sp_n tx_m\">만원</span>\n",
       " </p>]"
      ]
     },
     "execution_count": 46,
     "metadata": {},
     "output_type": "execute_result"
    }
   ],
   "source": [
    "soup.select('.pr_area .rate_info')"
   ]
  },
  {
   "cell_type": "code",
   "execution_count": 50,
   "metadata": {
    "collapsed": false
   },
   "outputs": [
    {
     "data": {
      "text/plain": [
       "'\\n14,500만원\\n'"
      ]
     },
     "execution_count": 50,
     "metadata": {},
     "output_type": "execute_result"
    }
   ],
   "source": [
    "t = soup.select('.pr_area .rate_info')[0].text\n",
    "t"
   ]
  },
  {
   "cell_type": "code",
   "execution_count": 51,
   "metadata": {
    "collapsed": true
   },
   "outputs": [],
   "source": [
    "import re"
   ]
  },
  {
   "cell_type": "code",
   "execution_count": 56,
   "metadata": {
    "collapsed": false
   },
   "outputs": [
    {
     "data": {
      "text/plain": [
       "'333123'"
      ]
     },
     "execution_count": 56,
     "metadata": {},
     "output_type": "execute_result"
    }
   ],
   "source": [
    "re.sub('[^0-9]', '', '333123SDFL..%^&*')"
   ]
  },
  {
   "cell_type": "code",
   "execution_count": 58,
   "metadata": {
    "collapsed": false
   },
   "outputs": [
    {
     "data": {
      "text/plain": [
       "14500"
      ]
     },
     "execution_count": 58,
     "metadata": {},
     "output_type": "execute_result"
    }
   ],
   "source": [
    "int(re.sub('[^0-9]', '', t))"
   ]
  },
  {
   "cell_type": "code",
   "execution_count": 59,
   "metadata": {
    "collapsed": true
   },
   "outputs": [],
   "source": [
    "heads = ['a', 'b', 'c']\n",
    "values= [1, 2, 3]"
   ]
  },
  {
   "cell_type": "code",
   "execution_count": 61,
   "metadata": {
    "collapsed": false
   },
   "outputs": [
    {
     "data": {
      "text/plain": [
       "{'a': 1, 'b': 2, 'c': 3}"
      ]
     },
     "execution_count": 61,
     "metadata": {},
     "output_type": "execute_result"
    }
   ],
   "source": [
    "dict(zip(heads, values))"
   ]
  },
  {
   "cell_type": "code",
   "execution_count": null,
   "metadata": {
    "collapsed": true
   },
   "outputs": [],
   "source": []
  }
 ],
 "metadata": {
  "kernelspec": {
   "display_name": "Python [Root]",
   "language": "python",
   "name": "Python [Root]"
  },
  "language_info": {
   "codemirror_mode": {
    "name": "ipython",
    "version": 3
   },
   "file_extension": ".py",
   "mimetype": "text/x-python",
   "name": "python",
   "nbconvert_exporter": "python",
   "pygments_lexer": "ipython3",
   "version": "3.5.2"
  }
 },
 "nbformat": 4,
 "nbformat_minor": 0
}
