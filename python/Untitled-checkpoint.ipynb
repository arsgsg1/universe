{
 "cells": [
  {
   "cell_type": "code",
   "execution_count": 3,
   "metadata": {
    "collapsed": true
   },
   "outputs": [],
   "source": [
    "import requests"
   ]
  },
  {
   "cell_type": "code",
   "execution_count": 28,
   "metadata": {
    "collapsed": false
   },
   "outputs": [],
   "source": [
    "url = 'http://land.naver.com/article/articleDetailInfo.nhn?atclNo=1610516501&atclRletTypeCd=A01&rletTypeCd=A01&tradeTypeCd=B1'"
   ]
  },
  {
   "cell_type": "code",
   "execution_count": 29,
   "metadata": {
    "collapsed": false
   },
   "outputs": [
    {
     "data": {
      "text/plain": [
       "[<p>최근 검색한 지역과 단지 <a href=\"javascript:void(0)\" title=\"최근 검색한 지역과 단지\">펼치기</a></p>,\n",
       " <p class=\"tx_date v2\">부동산써브 제공</p>,\n",
       " <p class=\"tx_date\">최초게재일 2016.10.15</p>,\n",
       " <p class=\"blind\">확인매물</p>,\n",
       " <p class=\"tx_adr\"><em class=\"ic\"><span class=\"blind\">현장확인</span></em> 부동산매물검증센터에서 2016년 10월 14일 현장확인한 매물입니다.</p>,\n",
       " <p class=\"rate_info\"><span class=\"sp_n num5\">5</span><span class=\"sp_n num7\">7</span><span class=\"sp_n dot\">.</span><span class=\"sp_n num0\">0</span><span class=\"sp_n num7\">7</span><span class=\"sp_n slash\">/</span><span class=\"sp_n num3\">3</span><span class=\"sp_n num9\">9</span><span class=\"sp_n dot\">.</span><span class=\"sp_n num9\">9</span><span class=\"sp_n num6\">6</span><span class=\"sp_n tx_m\">㎡</span></p>,\n",
       " <p class=\"mltm_area\"><a class=\"btn NPI=a:rprc\" href=\"HTTP://rt.molit.go.kr/srh/srh.do?cmd=rtSearch&amp;menuGubun=A&amp;srhType=LOC#2574,11,11350,1135010600,,,2574,2016,3,2\" target=\"_blank\"><span class=\"blind\">국토해양부 실거래가</span></a></p>,\n",
       " <p class=\"rate_info\">\n",
       " <span class=\"sp_n num1\">1</span><span class=\"sp_n num4\">4</span><span class=\"sp_n com\">,</span><span class=\"sp_n num5\">5</span><span class=\"sp_n num0\">0</span><span class=\"sp_n num0\">0</span><span class=\"sp_n tx_m\">만원</span><span class=\"tx_unit\">(839만원/3.3㎡)</span>\n",
       " </p>,\n",
       " <p class=\"ly_tx ly_tx_v2\">서울특별시 노원구 중계동 512 무지개아파트상가 108호</p>,\n",
       " <p class=\"ly_tx\">매매가 대비 전세가</p>,\n",
       " <p class=\"tx_spon\">한국감정원</p>,\n",
       " <p class=\"dsc\">(입주일로부터 최장 7 년시세)</p>,\n",
       " <p class=\"tx_dsc\">하절기 6~8月 / 동절기 12~2月 </p>,\n",
       " <p class=\"tx_spon\">아파트아이 제공</p>,\n",
       " <p class=\"tx_sale_info no_data\">등록된 매물 설명이 없습니다.</p>,\n",
       " <p class=\"tx_noti\">네이버부동산은 본 매물정보의 정확성에 대해 보증하지 아니하며, 게시되는 매물정보는<br/>실제 현장 매물 또는 건축물대장 등의 정보와 다를 수 있으므로 주의를 부탁 드립니다.</p>,\n",
       " <p class=\"self_register\"><a href=\"http://www.kjaa.or.kr/home/sub.asp?m_id=2&amp;s_id=2\" target=\"_blank\">법무사 등기보수</a><span class=\"bar\"></span><a href=\"http://land.naver.com/news/magazineView.nhn?arti_seq=5166573\" target=\"_blank\">Self 등기하는 방법</a></p>,\n",
       " <p class=\"tx\"><span class=\"ico\"></span>세금 &amp; 수수료 정보는 실제 거래 시 적용되는 금액과 다를 수 있습니다.</p>,\n",
       " <p class=\"tx_spon\">(주) 와우크레딧 제공</p>,\n",
       " <p class=\"input\">\n",
       " <input class=\"_inputArea\" id=\"path_input\" title=\"출발지 입력\" type=\"text\" value=\"출발지\"/>\n",
       " <span>→</span>\n",
       " <strong title=\"중계무지개\">중계무지개</strong>\n",
       " <a class=\"srch _pathSearch NPI=a:shortcut\" href=\"#\">찾기</a>\n",
       " </p>,\n",
       " <p class=\"subway\"><span class=\"s7\"></span>\n",
       " <a class=\"_subway NPI=a:public\" href=\"#\" id=\"714\" lat=\"37.6455003\" lng=\"127.0639223\" title=\"수도권7호선\">7호선(\n",
       " \t\t\t\t\t\n",
       " \t\t\t\t\t\t중계\n",
       " \t\t\t\t\t\n",
       " \t\t\t\t)</a></p>,\n",
       " <p class=\"login\">로그인을 해주세요</p>,\n",
       " <p class=\"result_none\" style=\"display: black;\">최근본 매물이 없습니다</p>,\n",
       " <p class=\"info\" tabindex=\"0\">네이버부동산은 제휴 부동산 정보업체가 전송한 매물 정보가 노출될 수 있도록 광고 플랫폼 및 부동산 관련 정보를 제공하며,<br/>제휴 부동산 정보업체가 네이버 부동산으로 전송한 매물 정보 및 이와 관련한 실제 거래에 대하여 어떠한 책임도 부담하지 않습니다.</p>]"
      ]
     },
     "execution_count": 29,
     "metadata": {},
     "output_type": "execute_result"
    }
   ],
   "source": [
    "r = requests.get(url)\n",
    "html = r.text\n",
    "from bs4 import BeautifulSoup\n",
    "soup = BeautifulSoup(html, \"lxml\")\n",
    "import re\n",
    "soup.select('p')"
   ]
  },
  {
   "cell_type": "code",
   "execution_count": 86,
   "metadata": {
    "collapsed": false
   },
   "outputs": [
    {
     "data": {
      "text/plain": [
       "['14,500만원(839만원/3.3㎡)']"
      ]
     },
     "execution_count": 86,
     "metadata": {},
     "output_type": "execute_result"
    }
   ],
   "source": [
    "addr = [soup.select('.t_adr')[0].text]\n",
    "value = soup.select('.pr_area .rate_info')[0].text\n",
    "value = [re.sub('\\n', '', value)]\n",
    "value"
   ]
  },
  {
   "cell_type": "code",
   "execution_count": 84,
   "metadata": {
    "collapsed": false
   },
   "outputs": [
    {
     "data": {
      "text/plain": [
       "{'중계무지개 209동': '14,500만원(839만원/3.3㎡)'}"
      ]
     },
     "execution_count": 84,
     "metadata": {},
     "output_type": "execute_result"
    }
   ],
   "source": [
    "dict(zip(addr, value))"
   ]
  }
 ],
 "metadata": {
  "kernelspec": {
   "display_name": "Python [Root]",
   "language": "python",
   "name": "Python [Root]"
  },
  "language_info": {
   "codemirror_mode": {
    "name": "ipython",
    "version": 3
   },
   "file_extension": ".py",
   "mimetype": "text/x-python",
   "name": "python",
   "nbconvert_exporter": "python",
   "pygments_lexer": "ipython3",
   "version": "3.5.2"
  }
 },
 "nbformat": 4,
 "nbformat_minor": 0
}
